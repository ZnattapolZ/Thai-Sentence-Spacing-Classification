{
 "cells": [
  {
   "cell_type": "markdown",
   "metadata": {},
   "source": [
    "# Thai Sentence Spacing Classification\n",
    "\n",
    "**The model is trained to classify the space seen in Thai language\n",
    "The space in Thai language have 2 class**\n",
    "1. The space between words and other language/numbers <br>\n",
    "    eg. วันนี้แม่ซื้อกับข้าวมา 3 ถุง\n",
    "2. The space between sentence <br>\n",
    "    eg. ฉันชอบไปโรงเรียน ฉันเลยมักจะไปโรงเรียนเช้ากว่าใครๆในห้อง\n",
    "    "
   ]
  },
  {
   "cell_type": "code",
   "execution_count": 121,
   "metadata": {},
   "outputs": [],
   "source": [
    "import xml.etree.ElementTree as ET\n",
    "import numpy as np"
   ]
  },
  {
   "cell_type": "markdown",
   "metadata": {},
   "source": [
    "# 1. Data Preparations"
   ]
  },
  {
   "cell_type": "code",
   "execution_count": 122,
   "metadata": {},
   "outputs": [
    {
     "name": "stdout",
     "output_type": "stream",
     "text": [
      "164\n"
     ]
    }
   ],
   "source": [
    "xml_file = ET.parse('./xmlchid-cut-sentence.xml')\n",
    "corpus = xml_file.getroot()\n",
    "print(len(corpus))"
   ]
  },
  {
   "cell_type": "code",
   "execution_count": 123,
   "metadata": {},
   "outputs": [
    {
     "name": "stdout",
     "output_type": "stream",
     "text": [
      "number of documents in corpus : 164\n"
     ]
    }
   ],
   "source": [
    "documents = []\n",
    "for docs in corpus:\n",
    "    documents.append(docs)\n",
    "print('number of documents in corpus :', len(documents))"
   ]
  },
  {
   "cell_type": "code",
   "execution_count": 124,
   "metadata": {},
   "outputs": [],
   "source": [
    "CONTEXT_LENGTH = 4\n",
    "\n",
    "## still hard coded (refactor needed.)\n",
    "NUM_WORDS = 17050"
   ]
  },
  {
   "cell_type": "code",
   "execution_count": 125,
   "metadata": {
    "scrolled": true
   },
   "outputs": [],
   "source": [
    "#LABEL 0  ==> SPACE IN THE SENTENCE\n",
    "#LABEL 1  ==> SPACE BETWEEN SENTENCES\n",
    "#LABEL -1 ==> NOT THE SPACE (NOT USED) CAN BE REPLACE BY ANYTHING...\n",
    "\n",
    "paragraphs_list = []\n",
    "postags_list = []\n",
    "tokens_label_list = []\n",
    "word_counter = 0\n",
    "pos_counter = 0\n",
    "word_vocabulary = {}\n",
    "pos_vocabulary = {}\n",
    "\n",
    "\n",
    "for doc in documents:\n",
    "    for paragraph in doc:\n",
    "        sentences_list = []\n",
    "        postokens_list = []\n",
    "        labels_list = []\n",
    "        \n",
    "        #append padding token for each paragraph (start)\n",
    "        for padding in range(CONTEXT_LENGTH):\n",
    "            sentences_list.append(['<padding>'])\n",
    "            postokens_list.append(['PADD'])\n",
    "            labels_list.append(-1)\n",
    "            \n",
    "        for i, sentence in enumerate(paragraph):\n",
    "            for word in sentence:\n",
    "                token = [word.get('surface')]\n",
    "                sentences_list.append(token)\n",
    "                \n",
    "                \n",
    "                pos_token = [word.get('pos')]\n",
    "                postokens_list.append(pos_token)\n",
    "                \n",
    "                # add word and tags to dictionary\n",
    "                if(token[0] not in word_vocabulary):\n",
    "                    word_vocabulary[token[0]] = word_counter\n",
    "                    word_counter += 1\n",
    "                if(pos_token[0] not in pos_vocabulary):\n",
    "                    pos_vocabulary[pos_token[0]] = pos_counter\n",
    "                    pos_counter += 1\n",
    "                \n",
    "                if (token[0] == '<space>'):\n",
    "                    labels_list.append(0)\n",
    "                else:\n",
    "                    labels_list.append(-1)\n",
    "                      \n",
    "            last_sentence_index = len(paragraph) - 1\n",
    "            if i != last_sentence_index:\n",
    "                sentences_list.append(['<space>'])\n",
    "                postokens_list.append(['PUNC'])\n",
    "            \n",
    "                labels_list.append(1)\n",
    "                \n",
    "        #append padding token for each paragraph (end)\n",
    "        for padding in range(CONTEXT_LENGTH):\n",
    "            sentences_list.append(['<padding>'])\n",
    "            postokens_list.append(['PADD'])\n",
    "            labels_list.append(-1)       \n",
    "        paragraphs_list.append(sentences_list)\n",
    "        postags_list.append(postokens_list)\n",
    "        tokens_label_list.append(labels_list)\n",
    "\n",
    "# add spacial tags to the dictionary\n",
    "\n",
    "\n",
    "pos_vocabulary['PADD'] = pos_counter \n",
    "word_vocabulary['<padding>'] = word_counter \n",
    "\n",
    "pos_vocabulary['UNNO'] = pos_counter + 1\n",
    "word_vocabulary['<unknown>'] = word_counter + 1\n"
   ]
  },
  {
   "cell_type": "code",
   "execution_count": 193,
   "metadata": {},
   "outputs": [
    {
     "name": "stdout",
     "output_type": "stream",
     "text": [
      "number of paragraphs in corpus : 11508 \n",
      "\n",
      "************************************************** \n",
      "\n",
      "number of tokenized words of first paragraph : 28\n",
      "[['<padding>'], ['<padding>'], ['<padding>'], ['<padding>'], ['การ'], ['ประชุม'], ['ทาง'], ['วิชาการ'], ['<space>'], ['ครั้ง'], ['ที่ 1'], ['<space>'], ['โครงการวิจัยและพัฒนา'], ['อิเล็กทรอนิกส์'], ['และ'], ['คอมพิวเตอร์'], ['<space>'], ['ปีงบประมาณ'], ['<space>'], ['2531'], ['<space>'], ['เล่ม'], ['<space>'], ['1'], ['<padding>'], ['<padding>'], ['<padding>'], ['<padding>']] \n",
      "\n",
      "labels :  28\n",
      "[-1, -1, -1, -1, -1, -1, -1, -1, 0, -1, -1, 1, -1, -1, -1, -1, 1, -1, 0, -1, 1, -1, 0, -1, -1, -1, -1, -1] \n",
      "\n",
      "************************************************** \n",
      "\n",
      "number of unique vocabulary in corpus : 17050\n",
      "ฉัน เป็นคำที่ ... 1990\n",
      "ไป เป็นคำที่ ... 167\n",
      "โรงเรียน เป็นคำที่ ... 2170 \n",
      "\n",
      "<unknown> เป็นคำที่ ... 17049 \n",
      "\n",
      "************************************************** \n",
      "\n",
      "number of unique POS tags in corpus : 48\n",
      "{'FIXN': 0, 'VACT': 1, 'NCMN': 2, 'PUNC': 3, 'CFQC': 4, 'DONM': 5, 'JCRG': 6, 'NCNM': 7, 'CNIT': 8, 'NPRP': 9, 'NTTL': 10, 'XVAM': 11, 'VSTA': 12, 'RPRE': 13, 'ADVN': 14, 'JSBR': 15, 'DDAC': 16, 'XVBM': 17, 'XVMM': 18, 'DIBQ': 19, 'PREL': 20, 'VATT': 21, 'XVAE': 22, 'DCNM': 23, 'CMTR': 24, 'FIXV': 25, 'PPRS': 26, 'XVBB': 27, 'DIAC': 28, 'PDMN': 29, 'DDAN': 30, 'CLTV': 31, 'ADVP': 32, 'NLBL': 33, 'ADVI': 34, 'JCMP': 35, 'ADVS': 36, 'DDBQ': 37, 'NEG': 38, 'PNTR': 39, 'EITT': 40, 'DDAQ': 41, 'NONM': 42, 'EAFF': 43, 'DIAQ': 44, 'CVBL': 45, 'PADD': 46, 'UNNO': 47}\n"
     ]
    }
   ],
   "source": [
    "print('number of paragraphs in corpus :', len(paragraphs_list), '\\n')\n",
    "print('*' * 50, '\\n')\n",
    "\n",
    "print('number of tokenized words of first paragraph :', len(paragraphs_list[0]))\n",
    "print(paragraphs_list[0], '\\n')\n",
    "print('labels : ', len(tokens_label_list[0]))\n",
    "print(tokens_label_list[0], '\\n')\n",
    "print('*' * 50, '\\n')\n",
    "\n",
    "print('number of unique vocabulary in corpus :', len(word_vocabulary))\n",
    "print('ฉัน เป็นคำที่ ...' , word_vocabulary['ฉัน'])\n",
    "print('ไป เป็นคำที่ ...' , word_vocabulary['ไป'])\n",
    "print('โรงเรียน เป็นคำที่ ...' , word_vocabulary['โรงเรียน'], '\\n')\n",
    "print('<unknown> เป็นคำที่ ...' , word_vocabulary['<unknown>'], '\\n')\n",
    "\n",
    "\n",
    "print('*' * 50, '\\n')\n",
    "\n",
    "print('number of unique POS tags in corpus :', len(pos_vocabulary))\n",
    "print(pos_vocabulary)"
   ]
  },
  {
   "cell_type": "code",
   "execution_count": 127,
   "metadata": {},
   "outputs": [],
   "source": [
    "context_word_list = []\n",
    "context_pos_list = []\n",
    "context_answer = []\n",
    "\n",
    "#find space in paragraph then make context\n",
    "for i,paragraph in enumerate(paragraphs_list):\n",
    "\n",
    "    for j, token in enumerate(paragraph):\n",
    "  \n",
    "        if(token[0] == '<space>' or token[0] == '<s_space>'):\n",
    "            context_word = []\n",
    "            context_pos = []  \n",
    "            for (k) in range(CONTEXT_LENGTH, 0, -1):\n",
    "\n",
    "                temp_token = paragraph[j-k]\n",
    "#                 print(temp_token)\n",
    "                context_word.append(temp_token)\n",
    "#                 print(context_word)\n",
    "                \n",
    "                temp_token_pos = postags_list[i][j-k]\n",
    "                context_pos.append(temp_token_pos)\n",
    "                \n",
    "            for (l) in range(CONTEXT_LENGTH):\n",
    "                \n",
    "                temp_token = paragraph[j+l+1]\n",
    "                context_word.append(temp_token)\n",
    "\n",
    "                temp_token_pos = postags_list[i][j+l+1]\n",
    "                context_pos.append(temp_token_pos)\n",
    "                \n",
    "            context_word_list.append(context_word)\n",
    "            context_pos_list.append(context_pos)\n",
    "            \n",
    "            ans = tokens_label_list[i][j]\n",
    "            context_answer.append(ans)"
   ]
  },
  {
   "cell_type": "code",
   "execution_count": 128,
   "metadata": {},
   "outputs": [
    {
     "name": "stdout",
     "output_type": "stream",
     "text": [
      "(67562, 8)\n",
      "(67562, 8)\n",
      "(67562,)\n",
      "[17048 17048   175   379   380     4   325 17048]\n",
      "[46 46 10  9  9  3  2 46]\n"
     ]
    }
   ],
   "source": [
    "# MAPPING THE WORD TOKEN TO VALUE IN DICTIONARY\n",
    "\n",
    "x_word = np.array(context_word_list).reshape(len(context_word_list), CONTEXT_LENGTH * 2)\n",
    "x_pos = np.array(context_pos_list).reshape(len(context_pos_list), CONTEXT_LENGTH * 2)\n",
    "\n",
    "x_word_train = []\n",
    "for i, context in enumerate(x_word):\n",
    "    context_int = [ word_vocabulary.get(token, NUM_WORDS-1) for token in context]\n",
    "    x_word_train.append(context_int)\n",
    "\n",
    "NUM_POS = 48\n",
    "x_pos_train = []\n",
    "for i, context in enumerate(x_pos):\n",
    "    context_int = [ pos_vocabulary.get(token, NUM_POS-1) for token in context]\n",
    "    x_pos_train.append(context_int)\n",
    "    \n",
    "y_train = np.array(context_answer, dtype = np.int8)\n",
    "\n",
    "x_word_train = np.array(x_word_train)\n",
    "x_pos_train = np.array(x_pos_train)\n",
    "\n",
    "print(x_word_train.shape)\n",
    "print(x_pos_train.shape)\n",
    "print(y_train.shape)\n",
    "\n",
    "print(x_word_train[200])\n",
    "print(x_pos_train[200])"
   ]
  },
  {
   "cell_type": "code",
   "execution_count": 129,
   "metadata": {},
   "outputs": [
    {
     "name": "stdout",
     "output_type": "stream",
     "text": [
      "57428\n"
     ]
    }
   ],
   "source": [
    "test_split_ratio = 0.15\n",
    "\n",
    "test_split_qty  = int(test_split_ratio * len(x_word_train))\n",
    "train_split_qty = len(x_word_train) - test_split_qty\n",
    "\n",
    "print(train_split_qty)"
   ]
  },
  {
   "cell_type": "code",
   "execution_count": 130,
   "metadata": {},
   "outputs": [
    {
     "name": "stdout",
     "output_type": "stream",
     "text": [
      "Dataset length =  67562 \n",
      "\n",
      "x_train len =  57428\n",
      "y_train len =  57428\n",
      "x_test len =  10134\n",
      "y_test len =  10134\n"
     ]
    }
   ],
   "source": [
    "# TRAIN <-> TEST SPLITTING... (Capital X and Y)\n",
    "X_word_train = x_word_train[:train_split_qty]\n",
    "X_pos_train  = x_pos_train[:train_split_qty]\n",
    "\n",
    "X_word_test  = x_word_train[train_split_qty : train_split_qty + test_split_qty]\n",
    "X_pos_test   = x_pos_train[train_split_qty : train_split_qty + test_split_qty]\n",
    "\n",
    "Y_train      = y_train[:train_split_qty]\n",
    "Y_test       = y_train[train_split_qty : train_split_qty + test_split_qty]\n",
    "\n",
    "print('Dataset length = ', len(x_word_train), '\\n')\n",
    "\n",
    "print('x_train len = ', len(X_word_train))\n",
    "print('y_train len = ', len(Y_train))\n",
    "\n",
    "print('x_test len = ', len(X_word_test))\n",
    "print('y_test len = ', len(Y_test))\n"
   ]
  },
  {
   "cell_type": "code",
   "execution_count": 131,
   "metadata": {},
   "outputs": [],
   "source": [
    "# SAVING DICTIONARY \n",
    "import json\n",
    "with open('./word_vocab.json', 'w') as fp:\n",
    "    json.dump(word_vocabulary, fp)\n",
    "    fp.close()\n",
    "\n",
    "with open('./pos_vocab.json', 'w') as fp2:\n",
    "    json.dump(pos_vocabulary, fp2)\n",
    "    fp2.close()"
   ]
  },
  {
   "cell_type": "markdown",
   "metadata": {},
   "source": [
    "# 2. Embedings Words and POSTags\n",
    "**Word Embedding: Fasttext**<br>\n",
    "**\\*\\*\\*SKIP THIS SECTION IF YOU USE EMBEDDING LAYER OF THE MODELS\\*\\*\\***"
   ]
  },
  {
   "cell_type": "markdown",
   "metadata": {},
   "source": [
    "1. Load fasttext trained thwiki model"
   ]
  },
  {
   "cell_type": "code",
   "execution_count": 6,
   "metadata": {
    "collapsed": true
   },
   "outputs": [
    {
     "name": "stdout",
     "output_type": "stream",
     "text": [
      "--2020-11-18 17:16:36--  https://dl.fbaipublicfiles.com/fasttext/vectors-wiki/wiki.th.zip\n",
      "Resolving dl.fbaipublicfiles.com (dl.fbaipublicfiles.com)... 104.22.74.142, 104.22.75.142, 172.67.9.4, ...\n",
      "Connecting to dl.fbaipublicfiles.com (dl.fbaipublicfiles.com)|104.22.74.142|:443... connected.\n",
      "HTTP request sent, awaiting response... 200 OK\n",
      "Length: 2602669751 (2.4G) [application/zip]\n",
      "Saving to: ‘wiki.th.zip’\n",
      "\n",
      "wiki.th.zip         100%[===================>]   2.42G  29.3MB/s    in 99s     \n",
      "\n",
      "2020-11-18 17:18:15 (25.2 MB/s) - ‘wiki.th.zip’ saved [2602669751/2602669751]\n",
      "\n"
     ]
    }
   ],
   "source": [
    "!wget https://dl.fbaipublicfiles.com/fasttext/vectors-wiki/wiki.th.zip"
   ]
  },
  {
   "cell_type": "code",
   "execution_count": 7,
   "metadata": {
    "collapsed": true
   },
   "outputs": [
    {
     "name": "stdout",
     "output_type": "stream",
     "text": [
      "Archive:  wiki.th.zip\n",
      "  inflating: wiki.th.bin             \n",
      "  inflating: wiki.th.vec             \n"
     ]
    }
   ],
   "source": [
    "!unzip wiki.th.zip"
   ]
  },
  {
   "cell_type": "code",
   "execution_count": 8,
   "metadata": {},
   "outputs": [],
   "source": [
    "import fasttext"
   ]
  },
  {
   "cell_type": "code",
   "execution_count": 10,
   "metadata": {},
   "outputs": [
    {
     "data": {
      "text/plain": [
       "300"
      ]
     },
     "execution_count": 10,
     "metadata": {},
     "output_type": "execute_result"
    }
   ],
   "source": [
    "fasttext_word_model = fasttext.load_model('wiki.th.bin')\n",
    "fasttext_word_model.get_dimension()"
   ]
  },
  {
   "cell_type": "markdown",
   "metadata": {},
   "source": [
    "2. Train fasttext postag embedding models and load into notebook"
   ]
  },
  {
   "cell_type": "code",
   "execution_count": 17,
   "metadata": {},
   "outputs": [],
   "source": [
    "with open('pos_tag_string.txt', 'w') as f:\n",
    "    for pos_paragraph in postags_list:\n",
    "        for postag in pos_paragraph:\n",
    "            f.write(\"%s \" % postag[0])\n",
    "        f.write(\"\\n\")"
   ]
  },
  {
   "cell_type": "code",
   "execution_count": 21,
   "metadata": {},
   "outputs": [],
   "source": [
    "POS_EMBEDDING_SIZE = 100\n",
    "CUT_FILE_PATH = './pos_tag_string.txt'\n",
    "FASTTEXT_MODEL_PATH = './fasttext_model_pos'"
   ]
  },
  {
   "cell_type": "code",
   "execution_count": 22,
   "metadata": {},
   "outputs": [
    {
     "name": "stdout",
     "output_type": "stream",
     "text": [
      "Read 0M words\n",
      "Number of words:  47\n",
      "Number of labels: 0\n",
      "Progress: 100.0% words/sec/thread:  508155 lr:  0.000000 avg.loss:  2.682078 ETA:   0h 0m 0s\n"
     ]
    }
   ],
   "source": [
    "!./fastText/fasttext skipgram -input $CUT_FILE_PATH -output $FASTTEXT_MODEL_PATH -dim $POS_EMBEDDING_SIZE"
   ]
  },
  {
   "cell_type": "code",
   "execution_count": 25,
   "metadata": {},
   "outputs": [
    {
     "data": {
      "text/plain": [
       "100"
      ]
     },
     "execution_count": 25,
     "metadata": {},
     "output_type": "execute_result"
    }
   ],
   "source": [
    "fasttext_pos_model = fasttext.load_model(FASTTEXT_MODEL_PATH + '.bin')\n",
    "fasttext_pos_model.get_dimension()"
   ]
  },
  {
   "cell_type": "markdown",
   "metadata": {},
   "source": [
    "3. Using the model to embed the word and pos token"
   ]
  },
  {
   "cell_type": "code",
   "execution_count": 26,
   "metadata": {},
   "outputs": [],
   "source": [
    "vec_paragraphs_list = []\n",
    "vec_postags_list = []\n",
    "\n",
    "for paragraph in paragraphs_list:\n",
    "    vec_word = []\n",
    "    \n",
    "    for token in paragraph:\n",
    "        vec = fasttext_word_model.get_word_vector(token[0])\n",
    "        vec_word.append(vec)\n",
    "        \n",
    "    vec_paragraphs_list.append(vec_word)\n",
    "\n",
    "for pos_paragraph in postags_list:\n",
    "    vec_pos = []\n",
    "    \n",
    "    for pos_token in pos_paragraph:\n",
    "        vec = fasttext_pos_model.get_word_vector(pos_token[0])\n",
    "        vec_pos.append(vec)\n",
    "    \n",
    "    vec_postags_list.append(vec_pos)"
   ]
  },
  {
   "cell_type": "code",
   "execution_count": 33,
   "metadata": {
    "collapsed": true
   },
   "outputs": [
    {
     "name": "stdout",
     "output_type": "stream",
     "text": [
      "length of input set of word vector: 11508\n",
      "length of input set of postags vector: 11508\n",
      "[array([-0.10596462,  0.0534357 ,  0.06850535,  0.19130176,  0.16411081,\n",
      "        0.02208216, -0.00101554, -0.17886946,  0.00827608,  0.1905343 ,\n",
      "        0.34671125,  0.03881268,  0.02401338, -0.04681519,  0.33765432,\n",
      "       -0.091507  ,  0.14224795, -0.0299975 , -0.17347592,  0.32992947,\n",
      "       -0.00273825, -0.16587082, -0.10390963, -0.253509  , -0.19863504,\n",
      "        0.35301802,  0.13454908, -0.16305357,  0.20494826,  0.04882457,\n",
      "        0.09958592, -0.07263525,  0.18276292,  0.40234217,  0.18770188,\n",
      "        0.01192412,  0.08085598, -0.04850538, -0.1682882 , -0.28915486,\n",
      "       -0.06991597,  0.04544356,  0.09172125, -0.12690555, -0.02346022,\n",
      "       -0.16817385,  0.1896465 , -0.19894685,  0.2125472 , -0.15461889,\n",
      "        0.04662331,  0.11132513, -0.19436818,  0.01263941,  0.15756638,\n",
      "       -0.05125534, -0.02414097,  0.20323697, -0.13083987,  0.09681961,\n",
      "       -0.06091405,  0.14629915, -0.07465646,  0.02653578, -0.10587999,\n",
      "        0.06450968, -0.01539591, -0.02080451, -0.04143437,  0.04294936,\n",
      "        0.10329259, -0.04585298,  0.10726902, -0.02805239,  0.04142135,\n",
      "       -0.09696467,  0.2225814 ,  0.17700204, -0.28422832, -0.06077083,\n",
      "        0.09974439,  0.06623523, -0.01025534, -0.0661486 , -0.05402921,\n",
      "       -0.03042068,  0.07413679, -0.08476265, -0.03749201, -0.12813133,\n",
      "        0.3122875 ,  0.04532612, -0.31701237, -0.1330979 , -0.14644271,\n",
      "        0.18651304,  0.09129887, -0.10200702, -0.09448535, -0.18256536,\n",
      "        0.3526259 , -0.12567116, -0.07008633,  0.09699492, -0.15828116,\n",
      "        0.25249004, -0.00615601, -0.25150627,  0.03882091, -0.16809063,\n",
      "        0.06125356,  0.11015514,  0.35903227,  0.05019561, -0.3754205 ,\n",
      "        0.11254547,  0.22568089, -0.43714797, -0.01554754,  0.10354882,\n",
      "       -0.0836786 , -0.2843673 ,  0.2424616 , -0.31111068,  0.08392442,\n",
      "       -0.13077143, -0.24412474, -0.2651636 ,  0.17121035, -0.13365152,\n",
      "       -0.01014725,  0.10129526, -0.17713198,  0.26104426, -0.00206574,\n",
      "       -0.22956352,  0.16477907, -0.02337292,  0.0138667 ,  0.0080626 ,\n",
      "        0.02944808,  0.24797207, -0.09280301,  0.05018505, -0.22112381,\n",
      "        0.02914352, -0.03834816,  0.10261749, -0.20541124,  0.1978737 ,\n",
      "       -0.04043552, -0.1236975 , -0.16382514,  0.22084112, -0.02799142,\n",
      "       -0.06019466,  0.04559638,  0.02025609, -0.03474037,  0.42824718,\n",
      "       -0.0530517 ,  0.07149422,  0.11186925, -0.12481697,  0.1119966 ,\n",
      "        0.03542896,  0.03082243, -0.2036328 ,  0.09030257, -0.00786986,\n",
      "       -0.01758318,  0.08666743, -0.10684674, -0.05168159,  0.01892969,\n",
      "       -0.10135966, -0.00913287, -0.06496331,  0.10490783, -0.02991074,\n",
      "       -0.09333889,  0.03132408, -0.10552195, -0.02709136, -0.10893954,\n",
      "        0.04165037,  0.13062064, -0.14461188, -0.04800091,  0.21254055,\n",
      "       -0.01886364,  0.10591812, -0.2709752 , -0.14119643,  0.05048689,\n",
      "        0.10419809,  0.1058021 ,  0.08052017, -0.09387983,  0.07263349,\n",
      "       -0.34486997,  0.09886031,  0.12285157,  0.23538953,  0.03949499,\n",
      "       -0.07932063,  0.1506927 , -0.18821956, -0.11749129,  0.16622823,\n",
      "        0.01719087, -0.06155538, -0.28149652, -0.08435426, -0.14321184,\n",
      "       -0.07342688, -0.04999649, -0.08680137, -0.08592568, -0.1606651 ,\n",
      "        0.11776075, -0.06368595, -0.2737944 , -0.07612011, -0.15545675,\n",
      "        0.08276574, -0.04873354, -0.03896379,  0.09305366,  0.2453167 ,\n",
      "       -0.01115515,  0.21962523,  0.18977596, -0.06031857,  0.21021608,\n",
      "       -0.25898296,  0.10944619, -0.06753952, -0.04270364, -0.20738779,\n",
      "        0.03456014, -0.04613983,  0.02492224, -0.04593923, -0.09687139,\n",
      "        0.18964289, -0.0134573 ,  0.18143877,  0.22725964, -0.09496412,\n",
      "        0.01945058,  0.03506228,  0.08845209,  0.04113761, -0.06638324,\n",
      "       -0.30309486, -0.02506292,  0.1986323 , -0.04228063, -0.03432908,\n",
      "        0.17940126, -0.09514952,  0.118724  , -0.00064813,  0.00289048,\n",
      "       -0.00822029,  0.04323335, -0.16859195,  0.13039792, -0.11931541,\n",
      "        0.2163964 , -0.00784972, -0.0329477 , -0.09349179,  0.05415557,\n",
      "        0.01471746, -0.1679751 ,  0.13329701,  0.19080673,  0.06800187,\n",
      "       -0.20030282, -0.36704555,  0.16227695,  0.03033442,  0.09064727,\n",
      "       -0.27695194, -0.10253676, -0.04556439,  0.10092433, -0.2568808 ,\n",
      "        0.09756608,  0.09724761, -0.0264897 , -0.09308986, -0.2443717 ,\n",
      "       -0.23015785,  0.11001017, -0.3030959 ,  0.30628407, -0.19349895],\n",
      "      dtype=float32), array([-2.37591073e-01, -2.19737962e-01, -2.48945951e-02, -5.77505864e-02,\n",
      "        2.21196085e-01,  2.84417182e-01, -1.99941769e-01, -2.99864233e-01,\n",
      "       -8.92967284e-02,  5.10752685e-02,  4.54387702e-02, -8.68243203e-02,\n",
      "       -1.54096335e-02,  2.41638824e-01, -2.75820643e-01, -3.46456409e-01,\n",
      "       -1.93285480e-01, -6.42108470e-02, -3.43339235e-01,  3.91870260e-01,\n",
      "       -1.64301232e-01, -1.67519003e-01, -2.89643049e-01, -2.93337971e-01,\n",
      "       -8.96563828e-02,  6.08329058e-01,  1.47278577e-01, -1.70564219e-01,\n",
      "       -1.09675474e-01,  1.17380091e-03, -1.67449698e-01,  9.91666690e-02,\n",
      "        2.51813740e-01,  3.36733192e-01, -7.94947818e-02, -2.17803176e-02,\n",
      "       -1.17536522e-01, -4.27937388e-01, -9.48288590e-02, -1.32065132e-01,\n",
      "       -3.37400436e-01, -8.36600140e-02,  9.59788337e-02,  4.87520322e-02,\n",
      "       -1.77563801e-01, -4.55329269e-01, -1.27536014e-01,  1.08832732e-01,\n",
      "        1.32925421e-01,  1.31702617e-01,  1.04854859e-01,  3.69516045e-01,\n",
      "        4.63581160e-02,  4.14629817e-01,  4.56820518e-01, -2.41623923e-01,\n",
      "       -3.73177603e-02,  2.20655099e-01, -5.33990622e-01,  1.82259530e-01,\n",
      "       -1.78697616e-01,  3.35719615e-01,  1.68533549e-01,  5.84362745e-01,\n",
      "        1.03416458e-01,  1.91312909e-01, -2.87900478e-01, -4.13281351e-01,\n",
      "       -2.39491425e-02,  1.20090492e-01, -7.56038073e-03, -7.09845871e-02,\n",
      "        7.34214634e-02,  3.92545350e-02, -9.41130668e-02,  2.02700235e-02,\n",
      "        4.91819859e-01,  2.57214636e-01, -3.29594761e-02,  2.88600419e-02,\n",
      "        1.82873998e-02,  1.84645489e-01,  3.51557344e-01, -3.41263562e-01,\n",
      "        4.45579551e-03,  1.56398937e-01, -2.54152268e-01,  1.95037797e-01,\n",
      "       -1.91784158e-01, -1.61124125e-01,  6.49541438e-01, -3.19436938e-01,\n",
      "       -7.53716677e-02, -6.81885928e-02,  3.10050626e-03,  5.48755862e-02,\n",
      "       -2.26315767e-01, -4.03904945e-01,  1.06296949e-01,  3.31427753e-02,\n",
      "        2.08840966e-01, -2.86108077e-01,  2.55942702e-01,  2.05161303e-01,\n",
      "        1.38367519e-01,  9.92520228e-02,  1.74124584e-01,  5.44679584e-03,\n",
      "       -2.14018777e-01,  5.17048799e-02, -4.03108113e-02, -5.41696027e-02,\n",
      "        4.55307394e-01, -1.73817292e-01, -1.50737166e-01, -4.83712070e-02,\n",
      "        2.43872106e-01, -6.45895123e-01,  1.25955388e-01,  2.60038078e-01,\n",
      "       -4.07602310e-01, -1.98775589e-01,  1.46232665e-01,  2.20890120e-02,\n",
      "        3.03050607e-01,  2.23726720e-01, -1.29599676e-01, -2.01728940e-01,\n",
      "        1.23370595e-01, -6.43898770e-02,  2.28375290e-02,  3.51455505e-03,\n",
      "       -5.58665991e-01, -2.64010169e-02, -1.89831987e-01,  2.65243173e-01,\n",
      "        9.88755971e-02,  1.58169353e-03,  3.36997867e-01,  3.79250020e-01,\n",
      "        1.39853582e-01,  3.21956873e-01, -1.18643053e-01, -1.48767438e-02,\n",
      "       -1.72427192e-01, -2.30448797e-01, -2.47074649e-01,  1.59035996e-01,\n",
      "       -2.84960747e-01, -7.77583718e-02, -2.27673486e-01,  2.13386595e-01,\n",
      "        6.26306683e-02,  2.52286464e-01, -1.84623688e-01, -5.48647568e-02,\n",
      "        5.77244997e-01,  2.83936203e-01,  1.06453866e-01,  3.26854289e-01,\n",
      "        5.27211290e-04, -4.36069906e-01,  2.27966145e-01, -3.20142299e-01,\n",
      "        1.37106306e-03,  1.70854107e-01, -4.05847609e-01, -2.16604710e-01,\n",
      "        7.58279487e-02, -3.76505911e-01, -1.67177305e-01, -3.36023897e-01,\n",
      "       -4.34463620e-01,  4.64454889e-02,  5.93264438e-02, -4.27353755e-02,\n",
      "       -1.86645806e-01,  8.17066431e-03,  1.32748455e-01,  1.05076861e-02,\n",
      "        5.39806560e-02,  4.14110310e-02,  1.28464431e-01, -1.65756106e-01,\n",
      "       -2.31306583e-01, -1.04675792e-01,  1.00287437e-01, -1.47816613e-01,\n",
      "       -2.29680836e-01,  1.11018166e-01,  3.00500572e-01, -3.75638872e-01,\n",
      "        3.19995172e-02, -2.88320035e-01, -8.22923854e-02,  1.34953395e-01,\n",
      "        1.25794828e-01,  1.72362655e-01,  4.87494841e-02,  2.16745697e-02,\n",
      "       -1.84161872e-01,  1.26249287e-02, -3.09451818e-01, -3.43523055e-01,\n",
      "       -3.87987196e-01, -7.71725327e-02, -4.98218369e-03, -1.59660399e-01,\n",
      "        1.26220345e-01,  3.32684815e-01, -2.04768479e-01,  1.18935816e-01,\n",
      "       -2.34056622e-01, -3.87691140e-01,  3.51991020e-02, -5.94499558e-02,\n",
      "       -7.32492581e-02, -1.29517570e-01, -1.96460709e-02, -5.82833700e-02,\n",
      "       -3.94529775e-02,  1.11401320e-01,  1.89252988e-01, -2.16643453e-01,\n",
      "       -7.35656396e-02,  5.86161874e-02,  1.30850272e-02,  2.69161444e-02,\n",
      "        8.44265521e-02, -1.93947330e-01,  1.67634949e-01,  9.05071646e-02,\n",
      "        3.82475734e-01, -5.34320027e-02, -4.66716848e-02,  6.34092721e-04,\n",
      "       -1.15231574e-01, -3.45847160e-02, -1.28165605e-02, -1.35069072e-01,\n",
      "        2.01172411e-01, -1.40636295e-01, -9.47105661e-02,  1.67410567e-01,\n",
      "       -2.00128824e-01, -4.44525927e-01, -1.88545138e-01,  4.53405350e-01,\n",
      "       -2.71044821e-02, -2.67674088e-01,  2.07892120e-01,  7.26656392e-02,\n",
      "        9.95031297e-02,  6.49895817e-02,  7.45650521e-03, -4.39772345e-02,\n",
      "        1.17630281e-01,  2.60429531e-01,  7.60225654e-02, -7.57148340e-02,\n",
      "       -1.65465161e-01, -2.89507627e-01, -3.11750084e-01,  2.10660964e-01,\n",
      "        7.05319941e-02, -4.85360444e-01, -1.34673798e-02, -6.99342340e-02,\n",
      "        1.26793822e-02, -1.50547490e-01,  4.96033393e-02,  1.27374651e-02,\n",
      "        3.21301848e-01, -1.43519908e-01, -9.28570554e-02,  2.32496709e-01,\n",
      "       -3.92242849e-01,  2.49826223e-01,  6.05614781e-01,  3.16296160e-01,\n",
      "       -8.34355056e-02,  1.11703619e-01,  6.21289536e-02,  1.73186362e-01,\n",
      "       -1.66725695e-01, -2.60210186e-01, -1.92051440e-01, -3.52823697e-02,\n",
      "        9.78149921e-02, -5.39043359e-03, -6.98669702e-02, -3.50383185e-02,\n",
      "        1.17639571e-01, -2.00084835e-01, -1.07679598e-01, -3.00788254e-01,\n",
      "       -5.34083582e-02,  9.98888984e-02,  1.60798714e-01,  5.33041619e-02],\n",
      "      dtype=float32)]\n",
      "[array([ 3.06007620e-02,  3.04917563e-02, -2.69884858e-02, -5.53967580e-02,\n",
      "        4.55628633e-02, -2.34654471e-02,  6.95436373e-02,  1.25115421e-02,\n",
      "       -1.28174986e-04,  3.66330631e-02,  3.35833197e-03, -8.77956580e-03,\n",
      "        8.46669264e-03,  4.08263989e-02, -4.51789796e-02,  6.71003982e-02,\n",
      "       -5.29044867e-02, -3.47874872e-02,  5.64340362e-03, -3.81262577e-03,\n",
      "       -5.37364818e-02, -4.70737070e-02,  2.77880710e-02,  6.14509769e-02,\n",
      "        3.60031649e-02,  6.73385113e-02,  1.15636036e-01,  1.12028085e-01,\n",
      "       -8.83744135e-02,  1.20387740e-01, -1.42454430e-01, -3.88227887e-02,\n",
      "       -6.00862838e-02, -1.28036231e-01, -1.06779523e-01,  1.10426947e-01,\n",
      "        1.46717101e-01, -8.80614296e-02,  7.45413080e-02, -4.80800271e-02,\n",
      "        5.25247480e-04,  6.11089990e-02, -6.12098984e-02, -8.48067701e-02,\n",
      "        2.16953889e-01,  8.56683329e-02,  1.77164197e-01, -2.40081158e-02,\n",
      "        6.76771775e-02,  1.15779653e-01, -1.72522500e-01, -1.55838709e-02,\n",
      "       -1.50858194e-01,  2.43886989e-02,  9.76089016e-03, -2.39766479e-01,\n",
      "       -2.20324248e-01,  5.89913726e-02, -1.12215728e-01, -6.44024611e-02,\n",
      "       -7.83627778e-02, -1.26002118e-01, -1.19135894e-01,  1.64862707e-01,\n",
      "       -7.44142085e-02,  1.08182803e-01,  8.59535635e-02,  5.21573648e-02,\n",
      "       -2.22625524e-01,  6.98818341e-02, -1.34361222e-01,  1.58980876e-01,\n",
      "       -1.42845303e-01, -1.21086158e-01, -2.26769969e-01, -4.95117418e-02,\n",
      "       -6.75321966e-02,  1.10888734e-01,  3.15096751e-02,  6.79282621e-02,\n",
      "        9.14560258e-02,  3.27926315e-02, -1.15345016e-01, -1.22185331e-03,\n",
      "        4.56682313e-03,  4.79957759e-02,  4.53324802e-02, -1.87382385e-01,\n",
      "        5.21087274e-03, -1.37334298e-02,  1.53803723e-02,  6.46159425e-03,\n",
      "        8.10264945e-02, -1.63408831e-01,  9.38830748e-02, -1.22921333e-01,\n",
      "       -8.80557392e-03,  9.22949985e-02, -3.26296017e-02,  1.00050606e-01],\n",
      "      dtype=float32), array([ 0.07663996,  0.05307551, -0.03250523, -0.02187926,  0.02699978,\n",
      "       -0.01071923,  0.07188091,  0.05751493, -0.01913143,  0.02160485,\n",
      "       -0.00766708,  0.00502208, -0.02149742,  0.06681372, -0.05914488,\n",
      "        0.03302887, -0.04885641, -0.01494031,  0.02965151,  0.00658263,\n",
      "        0.00460842, -0.01124009,  0.014101  ,  0.03375418,  0.0128434 ,\n",
      "        0.03138318,  0.08221781,  0.08217951, -0.06999308,  0.10086138,\n",
      "       -0.13844852, -0.0691773 , -0.04741346, -0.12312003, -0.11347173,\n",
      "        0.07845429,  0.18327141, -0.10607177,  0.05197292, -0.04157351,\n",
      "       -0.07115708,  0.11250228, -0.02247575, -0.13659002,  0.20904282,\n",
      "        0.07638258,  0.19526827, -0.01463551,  0.05951523,  0.08359323,\n",
      "       -0.18017104, -0.02830196, -0.08174343,  0.00936295,  0.01031007,\n",
      "       -0.14869744, -0.18632655,  0.04375917, -0.1234632 , -0.06420252,\n",
      "       -0.08307147, -0.09868646, -0.1017526 ,  0.15218209, -0.08868448,\n",
      "        0.09117848,  0.10577992,  0.03916577, -0.16855073,  0.0738575 ,\n",
      "       -0.1262357 ,  0.13324907, -0.12892398, -0.11627601, -0.19177058,\n",
      "       -0.06054587, -0.07749493,  0.09938584,  0.00450313,  0.04861387,\n",
      "        0.08170547,  0.00973629, -0.11330735,  0.00285261,  0.03846778,\n",
      "        0.03767264,  0.05366194, -0.17563279, -0.03349065, -0.01014384,\n",
      "       -0.00978098,  0.04101662,  0.08691283, -0.17869963,  0.12986198,\n",
      "       -0.12354332, -0.00215584,  0.14577512, -0.06148286,  0.07295611],\n",
      "      dtype=float32)]\n"
     ]
    }
   ],
   "source": [
    "print('length of input set of word vector:', len(vec_paragraphs_list))\n",
    "print('length of input set of postags vector:',len(vec_postags_list))\n",
    "print(vec_paragraphs_list[0][0:2])\n",
    "print(vec_postags_list[0][0:2])"
   ]
  },
  {
   "cell_type": "markdown",
   "metadata": {},
   "source": [
    "4. Concatination between word_vector and postags_vector (300 + 100 = 400)"
   ]
  },
  {
   "cell_type": "code",
   "execution_count": 54,
   "metadata": {},
   "outputs": [],
   "source": [
    "input_vector = []\n",
    "for i in range(len(vec_paragraphs_list)):\n",
    "    combines_vector = []\n",
    "    for j in range(len(vec_paragraphs_list[i])):\n",
    "        \n",
    "        combine_vector = np.concatenate((vec_paragraphs_list[i][j], vec_postags_list[i][j]))\n",
    "        combines_vector.append(combine_vector)\n",
    "    \n",
    "    input_vector.append(combines_vector)"
   ]
  },
  {
   "cell_type": "code",
   "execution_count": 55,
   "metadata": {},
   "outputs": [
    {
     "name": "stdout",
     "output_type": "stream",
     "text": [
      "11508\n"
     ]
    }
   ],
   "source": [
    "print(len(input_vector))"
   ]
  },
  {
   "cell_type": "markdown",
   "metadata": {},
   "source": [
    "# 3.1 The LSTM Models (WORDs with POSTags)"
   ]
  },
  {
   "cell_type": "code",
   "execution_count": 21,
   "metadata": {},
   "outputs": [],
   "source": [
    "from tensorflow.keras import Model, models\n",
    "from tensorflow.keras.layers import Dense, Flatten, Dropout, LSTM, Embedding, Input, Bidirectional, Conv1D, MaxPool1D, Concatenate\n",
    "from tensorflow.keras.losses import SparseCategoricalCrossentropy\n",
    "from tensorflow.keras.optimizers import RMSprop, Adam\n",
    "\n",
    "import matplotlib.pyplot as plt"
   ]
  },
  {
   "cell_type": "code",
   "execution_count": 22,
   "metadata": {},
   "outputs": [],
   "source": [
    "# If you use embedded layer skip the Embedding layer and change input to embeded vector instread!\n",
    "\n",
    "input_word = Input((CONTEXT_LENGTH * 2,))\n",
    "x1 = Embedding(NUM_WORDS, 300)(input_word)\n",
    "\n",
    "input_tag = Input((CONTEXT_LENGTH * 2,))\n",
    "x2 = Embedding(NUM_WORDS, 100)(input_tag)\n",
    "\n",
    "x = Concatenate()([x1, x2])\n",
    "\n",
    "x = MaxPool1D()(x)\n",
    "x = Bidirectional(LSTM(100, return_sequences=True))(x)\n",
    "x = Bidirectional(LSTM(100, return_sequences=False))(x)\n",
    "x = Dense(32, activation='tanh')(x)\n",
    "x = Dropout(0.2)(x)\n",
    "out = Dense(2, activation='softmax')(x)"
   ]
  },
  {
   "cell_type": "code",
   "execution_count": 23,
   "metadata": {},
   "outputs": [
    {
     "name": "stdout",
     "output_type": "stream",
     "text": [
      "Model: \"functional_1\"\n",
      "__________________________________________________________________________________________________\n",
      "Layer (type)                    Output Shape         Param #     Connected to                     \n",
      "==================================================================================================\n",
      "input_1 (InputLayer)            [(None, 8)]          0                                            \n",
      "__________________________________________________________________________________________________\n",
      "input_2 (InputLayer)            [(None, 8)]          0                                            \n",
      "__________________________________________________________________________________________________\n",
      "embedding (Embedding)           (None, 8, 300)       5115000     input_1[0][0]                    \n",
      "__________________________________________________________________________________________________\n",
      "embedding_1 (Embedding)         (None, 8, 100)       1705000     input_2[0][0]                    \n",
      "__________________________________________________________________________________________________\n",
      "concatenate (Concatenate)       (None, 8, 400)       0           embedding[0][0]                  \n",
      "                                                                 embedding_1[0][0]                \n",
      "__________________________________________________________________________________________________\n",
      "max_pooling1d (MaxPooling1D)    (None, 4, 400)       0           concatenate[0][0]                \n",
      "__________________________________________________________________________________________________\n",
      "bidirectional (Bidirectional)   (None, 4, 200)       400800      max_pooling1d[0][0]              \n",
      "__________________________________________________________________________________________________\n",
      "bidirectional_1 (Bidirectional) (None, 200)          240800      bidirectional[0][0]              \n",
      "__________________________________________________________________________________________________\n",
      "dense (Dense)                   (None, 32)           6432        bidirectional_1[0][0]            \n",
      "__________________________________________________________________________________________________\n",
      "dropout (Dropout)               (None, 32)           0           dense[0][0]                      \n",
      "__________________________________________________________________________________________________\n",
      "dense_1 (Dense)                 (None, 2)            66          dropout[0][0]                    \n",
      "==================================================================================================\n",
      "Total params: 7,468,098\n",
      "Trainable params: 7,468,098\n",
      "Non-trainable params: 0\n",
      "__________________________________________________________________________________________________\n"
     ]
    }
   ],
   "source": [
    "model = Model([input_word, input_tag], out)\n",
    "model.summary()"
   ]
  },
  {
   "cell_type": "code",
   "execution_count": 24,
   "metadata": {},
   "outputs": [],
   "source": [
    "#TRAIN HYPER PARAMETERS \n",
    "learning_rate = 0.001\n",
    "\n",
    "epochs = 5\n",
    "batch_size = 22 \n",
    "validation_split = 0.2  # 20%"
   ]
  },
  {
   "cell_type": "code",
   "execution_count": 25,
   "metadata": {},
   "outputs": [],
   "source": [
    "model.compile(\n",
    "    optimizer=Adam(learning_rate=learning_rate),\n",
    "    loss=SparseCategoricalCrossentropy(),\n",
    "    metrics=['accuracy'])"
   ]
  },
  {
   "cell_type": "code",
   "execution_count": 26,
   "metadata": {},
   "outputs": [
    {
     "name": "stdout",
     "output_type": "stream",
     "text": [
      "Epoch 1/5\n",
      "2089/2089 [==============================] - 119s 57ms/step - loss: 0.2731 - accuracy: 0.8858 - val_loss: 0.2399 - val_accuracy: 0.8960\n",
      "Epoch 2/5\n",
      "2089/2089 [==============================] - 117s 56ms/step - loss: 0.1547 - accuracy: 0.9380 - val_loss: 0.2599 - val_accuracy: 0.8934\n",
      "Epoch 3/5\n",
      "2089/2089 [==============================] - 116s 56ms/step - loss: 0.0904 - accuracy: 0.9652 - val_loss: 0.3091 - val_accuracy: 0.8774\n",
      "Epoch 4/5\n",
      "2089/2089 [==============================] - 117s 56ms/step - loss: 0.0539 - accuracy: 0.9806 - val_loss: 0.3760 - val_accuracy: 0.8700\n",
      "Epoch 5/5\n",
      "2089/2089 [==============================] - 115s 55ms/step - loss: 0.0366 - accuracy: 0.9870 - val_loss: 0.4784 - val_accuracy: 0.8684\n"
     ]
    }
   ],
   "source": [
    "history = model.fit([X_word_train, X_pos_train], Y_train, epochs=epochs, batch_size=batch_size, validation_split=validation_split, verbose=1)\n"
   ]
  },
  {
   "cell_type": "code",
   "execution_count": 27,
   "metadata": {},
   "outputs": [
    {
     "data": {
      "image/png": "[encoded data removed]",
      "text/plain": [
       "<Figure size 432x288 with 1 Axes>"
      ]
     },
     "metadata": {
      "needs_background": "light"
     },
     "output_type": "display_data"
    },
    {
     "data": {
      "image/png": "[encoded data removed]",
      "text/plain": [
       "<Figure size 432x288 with 1 Axes>"
      ]
     },
     "metadata": {
      "needs_background": "light"
     },
     "output_type": "display_data"
    },
    {
     "data": {
      "text/plain": [
       "([<matplotlib.lines.Line2D at 0x7fbb5d2d1ad0>], None)"
      ]
     },
     "execution_count": 27,
     "metadata": {},
     "output_type": "execute_result"
    }
   ],
   "source": [
    "# Training visualization \n",
    "plt.title(\"ACCURACY FOR WORDs + POSTags\")\n",
    "plt.plot(history.history['accuracy'])\n",
    "plt.plot(history.history['val_accuracy']), plt.show()\n",
    "\n",
    "plt.title(\"LOSS FOR WORDs + POSTags\")\n",
    "plt.plot(history.history['loss'])\n",
    "plt.plot(history.history['val_loss']), plt.show()"
   ]
  },
  {
   "cell_type": "code",
   "execution_count": 28,
   "metadata": {},
   "outputs": [
    {
     "name": "stdout",
     "output_type": "stream",
     "text": [
      "461/461 [==============================] - 3s 7ms/step - loss: 0.4016 - accuracy: 0.8885\n"
     ]
    }
   ],
   "source": [
    "matrix_score = model.evaluate([X_word_test, X_pos_test], Y_test, batch_size = batch_size)\n",
    "\n",
    "test_loss = matrix_score[0]\n",
    "test_accuracy = matrix_score[1]"
   ]
  },
  {
   "cell_type": "code",
   "execution_count": 29,
   "metadata": {},
   "outputs": [
    {
     "name": "stdout",
     "output_type": "stream",
     "text": [
      "TEST ACCURACY\n",
      "88.84941935539246 %\n"
     ]
    }
   ],
   "source": [
    "print(\"TEST ACCURACY\")\n",
    "print(test_accuracy*100, '%') "
   ]
  },
  {
   "cell_type": "code",
   "execution_count": 30,
   "metadata": {},
   "outputs": [],
   "source": [
    "# SAVE FIRST MODEL\n",
    "MODEL_SAVING_PATH = './th_sentence_spacing_classifier_by_word_and_pos.h5'\n",
    "model.save(MODEL_SAVING_PATH)"
   ]
  },
  {
   "cell_type": "markdown",
   "metadata": {},
   "source": [
    "# 3.2 The LSTM Models (only WORDs)"
   ]
  },
  {
   "cell_type": "code",
   "execution_count": 31,
   "metadata": {},
   "outputs": [],
   "source": [
    "# If you use embedded layer skip the Embedding layer and change input to embeded vector instread!\n",
    "\n",
    "input_word_2 = Input((CONTEXT_LENGTH * 2,))\n",
    "x_2 = Embedding(NUM_WORDS, 300)(input_word_2)\n",
    "x_2 = MaxPool1D()(x_2)\n",
    "x_2 = Bidirectional(LSTM(100, return_sequences=True))(x_2)\n",
    "x_2 = Bidirectional(LSTM(100, return_sequences=False))(x_2)\n",
    "x_2 = Dense(32, activation='tanh')(x_2)\n",
    "x_2 = Dropout(0.2)(x_2)\n",
    "out_2 = Dense(2, activation='softmax')(x_2)"
   ]
  },
  {
   "cell_type": "code",
   "execution_count": 32,
   "metadata": {},
   "outputs": [
    {
     "name": "stdout",
     "output_type": "stream",
     "text": [
      "Model: \"functional_3\"\n",
      "_________________________________________________________________\n",
      "Layer (type)                 Output Shape              Param #   \n",
      "=================================================================\n",
      "input_3 (InputLayer)         [(None, 8)]               0         \n",
      "_________________________________________________________________\n",
      "embedding_2 (Embedding)      (None, 8, 300)            5115000   \n",
      "_________________________________________________________________\n",
      "max_pooling1d_1 (MaxPooling1 (None, 4, 300)            0         \n",
      "_________________________________________________________________\n",
      "bidirectional_2 (Bidirection (None, 4, 200)            320800    \n",
      "_________________________________________________________________\n",
      "bidirectional_3 (Bidirection (None, 200)               240800    \n",
      "_________________________________________________________________\n",
      "dense_2 (Dense)              (None, 32)                6432      \n",
      "_________________________________________________________________\n",
      "dropout_1 (Dropout)          (None, 32)                0         \n",
      "_________________________________________________________________\n",
      "dense_3 (Dense)              (None, 2)                 66        \n",
      "=================================================================\n",
      "Total params: 5,683,098\n",
      "Trainable params: 5,683,098\n",
      "Non-trainable params: 0\n",
      "_________________________________________________________________\n"
     ]
    }
   ],
   "source": [
    "model2 = Model(input_word_2, out_2)\n",
    "model2.summary()"
   ]
  },
  {
   "cell_type": "code",
   "execution_count": 33,
   "metadata": {},
   "outputs": [],
   "source": [
    "model2.compile(\n",
    "    optimizer=Adam(learning_rate=learning_rate),\n",
    "    loss=SparseCategoricalCrossentropy(),\n",
    "    metrics=['accuracy'])"
   ]
  },
  {
   "cell_type": "code",
   "execution_count": 34,
   "metadata": {},
   "outputs": [
    {
     "name": "stdout",
     "output_type": "stream",
     "text": [
      "Epoch 1/5\n",
      "2089/2089 [==============================] - 98s 47ms/step - loss: 0.2994 - accuracy: 0.8753 - val_loss: 0.2679 - val_accuracy: 0.8833\n",
      "Epoch 2/5\n",
      "2089/2089 [==============================] - 97s 46ms/step - loss: 0.1648 - accuracy: 0.9355 - val_loss: 0.2768 - val_accuracy: 0.8812\n",
      "Epoch 3/5\n",
      "2089/2089 [==============================] - 96s 46ms/step - loss: 0.0941 - accuracy: 0.9649 - val_loss: 0.3333 - val_accuracy: 0.8754\n",
      "Epoch 4/5\n",
      "2089/2089 [==============================] - 95s 45ms/step - loss: 0.0574 - accuracy: 0.9786 - val_loss: 0.3922 - val_accuracy: 0.8725\n",
      "Epoch 5/5\n",
      "2089/2089 [==============================] - 94s 45ms/step - loss: 0.0371 - accuracy: 0.9870 - val_loss: 0.5254 - val_accuracy: 0.8647\n"
     ]
    }
   ],
   "source": [
    "history2 = model2.fit(X_word_train, Y_train, epochs=epochs, batch_size=batch_size, validation_split=validation_split, verbose=1)\n"
   ]
  },
  {
   "cell_type": "code",
   "execution_count": 35,
   "metadata": {},
   "outputs": [
    {
     "data": {
      "image/png": "[encoded data removed]",
      "text/plain": [
       "<Figure size 432x288 with 1 Axes>"
      ]
     },
     "metadata": {
      "needs_background": "light"
     },
     "output_type": "display_data"
    },
    {
     "data": {
      "image/png": "[encoded data removed]",
      "text/plain": [
       "<Figure size 432x288 with 1 Axes>"
      ]
     },
     "metadata": {
      "needs_background": "light"
     },
     "output_type": "display_data"
    },
    {
     "data": {
      "text/plain": [
       "([<matplotlib.lines.Line2D at 0x7fbb3a1dea10>], None)"
      ]
     },
     "execution_count": 35,
     "metadata": {},
     "output_type": "execute_result"
    }
   ],
   "source": [
    "# Training visualization \n",
    "plt.title(\"ACCURACY FOR WORDs ONLY\")\n",
    "plt.plot(history2.history['accuracy'])\n",
    "plt.plot(history2.history['val_accuracy']), plt.show()\n",
    "\n",
    "plt.title(\"LOSS FOR WORDs ONLY\")\n",
    "plt.plot(history2.history['loss'])\n",
    "plt.plot(history2.history['val_loss']), plt.show()"
   ]
  },
  {
   "cell_type": "code",
   "execution_count": 36,
   "metadata": {},
   "outputs": [
    {
     "name": "stdout",
     "output_type": "stream",
     "text": [
      "461/461 [==============================] - 3s 6ms/step - loss: 0.3967 - accuracy: 0.8929\n"
     ]
    }
   ],
   "source": [
    "matrix_score2 = model2.evaluate(X_word_test, Y_test, batch_size = batch_size)\n",
    "\n",
    "test_loss2 = matrix_score2[0]\n",
    "test_accuracy2 = matrix_score2[1]"
   ]
  },
  {
   "cell_type": "code",
   "execution_count": 37,
   "metadata": {},
   "outputs": [
    {
     "name": "stdout",
     "output_type": "stream",
     "text": [
      "TEST ACCURACY\n",
      "89.29346799850464 %\n"
     ]
    }
   ],
   "source": [
    "print(\"TEST ACCURACY\")\n",
    "print(test_accuracy2*100, '%') "
   ]
  },
  {
   "cell_type": "code",
   "execution_count": 163,
   "metadata": {},
   "outputs": [],
   "source": [
    "# SAVE SECOND MODEL\n",
    "MODEL_SAVING_PATH = './th_sentence_spacing_classifier_by_word.h5'\n",
    "model2.save(MODEL_SAVING_PATH)"
   ]
  },
  {
   "cell_type": "markdown",
   "metadata": {},
   "source": [
    "# 4. Using The Model"
   ]
  },
  {
   "cell_type": "code",
   "execution_count": 124,
   "metadata": {
    "collapsed": true
   },
   "outputs": [
    {
     "name": "stdout",
     "output_type": "stream",
     "text": [
      "Collecting pythainlp\n",
      "  Downloading pythainlp-2.2.5-py3-none-any.whl (8.9 MB)\n",
      "\u001b[K     |████████████████████████████████| 8.9 MB 5.7 MB/s eta 0:00:01\n",
      "\u001b[?25hCollecting tinydb>=3.0\n",
      "  Downloading tinydb-4.3.0-py3-none-any.whl (21 kB)\n",
      "Requirement already satisfied: requests>=2.22.0 in /opt/conda/lib/python3.7/site-packages (from pythainlp) (2.24.0)\n",
      "Collecting python-crfsuite>=0.9.6\n",
      "  Downloading python_crfsuite-0.9.7-cp37-cp37m-manylinux1_x86_64.whl (743 kB)\n",
      "\u001b[K     |████████████████████████████████| 743 kB 65.7 MB/s eta 0:00:01\n",
      "\u001b[?25hRequirement already satisfied: urllib3!=1.25.0,!=1.25.1,<1.26,>=1.21.1 in /opt/conda/lib/python3.7/site-packages (from requests>=2.22.0->pythainlp) (1.25.10)\n",
      "Requirement already satisfied: certifi>=2017.4.17 in /opt/conda/lib/python3.7/site-packages (from requests>=2.22.0->pythainlp) (2020.6.20)\n",
      "Requirement already satisfied: idna<3,>=2.5 in /opt/conda/lib/python3.7/site-packages (from requests>=2.22.0->pythainlp) (2.10)\n",
      "Requirement already satisfied: chardet<4,>=3.0.2 in /opt/conda/lib/python3.7/site-packages (from requests>=2.22.0->pythainlp) (3.0.4)\n",
      "Installing collected packages: tinydb, python-crfsuite, pythainlp\n",
      "Successfully installed pythainlp-2.2.5 python-crfsuite-0.9.7 tinydb-4.3.0\n"
     ]
    }
   ],
   "source": [
    "!pip install pythainlp"
   ]
  },
  {
   "cell_type": "code",
   "execution_count": 207,
   "metadata": {},
   "outputs": [],
   "source": [
    "def space_guess(paragraph, word_dictionary, model, model_padding_size = 4):\n",
    "    \n",
    "    # padding...\n",
    "    padding = []\n",
    "    for i in range(model_padding_size):\n",
    "        padding.append('<padding>')\n",
    "    paragraph = padding + paragraph + padding\n",
    "    \n",
    "    #replace space with token of space\n",
    "    for i, token in enumerate(paragraph):\n",
    "        if(token == ' '): paragraph[i] = '<space>'\n",
    "            \n",
    "    # find space in paragraph then make context\n",
    "    context_word_list = []\n",
    "    for j, token in enumerate(paragraph):\n",
    "        if(token == '<space>'):\n",
    "            context_word = [] \n",
    "            for (k) in range(model_padding_size, 0, -1):\n",
    "                temp_token = paragraph[j-k]\n",
    "                context_word.append([temp_token])\n",
    "\n",
    "            for (l) in range(CONTEXT_LENGTH):\n",
    "                temp_token = paragraph[j+l+1]\n",
    "                context_word.append([temp_token])\n",
    "            context_word_list.append(context_word)\n",
    "\n",
    "    x_context = np.array(context_word_list).reshape(len(context_word_list), model_padding_size * 2)\n",
    "\n",
    "    NUM_WORDS = 17050\n",
    "    x_context_prediction = []\n",
    "    for i, context in enumerate(x_context):\n",
    "        context_int = [ word_dictionary.get(token, NUM_WORDS-1) for token in context]\n",
    "        x_context_prediction.append(context_int) \n",
    "\n",
    "    ans_arr = []\n",
    "    for i in range(len(x_context_prediction)):\n",
    "\n",
    "        ans = model.predict(np.array(x_context_prediction[i]).reshape(1,8))\n",
    "\n",
    "        if(ans[0][0] > 0.5): ans_arr.append('NO')\n",
    "        else :            ans_arr.append('YES')\n",
    "\n",
    "    print(ans_arr)\n",
    "    return ans_arr    \n"
   ]
  },
  {
   "cell_type": "code",
   "execution_count": 208,
   "metadata": {},
   "outputs": [],
   "source": [
    "#Load the model\n",
    "mymodel = models.load_model('./th_sentence_spacing_classifier_by_word.h5')"
   ]
  },
  {
   "cell_type": "code",
   "execution_count": 264,
   "metadata": {},
   "outputs": [],
   "source": [
    "#Your Paragraph \n",
    "myparagraph = \"ฉันซื้อขนมซองละ 5 บาท แม่บอกว่าขนมถูกแต่ไม่มีประโยชน์\"\n",
    "myparagraph2 = \"เก็บข้อมูลเชิงลึกกับคนไร้บ้านที่มีโรคจิตเวชจำนวน 20 คน ที่พบโรคจิตเวชโรคใดโรคหนึ่ง\"\n",
    "myparagraph3 = \"ฉันชอบกินข้าวมากฉันจึงซื้อข้าวมาเก็บไว้เผื่อ แม่บอกว่าในห้องยังเหลืออีกตั้ง 10 กระสอบ\"\n",
    "myparagraph4 = \"ฉันชอบเรียนวิชา nlp มาก เพราะว่าอาจารย์ทั้งใจดีแล้วก็สอนเก่งอีกด้วย\""
   ]
  },
  {
   "cell_type": "code",
   "execution_count": 265,
   "metadata": {},
   "outputs": [
    {
     "name": "stdout",
     "output_type": "stream",
     "text": [
      "['ฉัน', 'ชอบ', 'เรียน', 'วิชา', ' ', 'nlp', ' ', 'มาก', ' ', 'เพราะว่า', 'อาจารย์', 'ทั้ง', 'ใจดี', 'แล้วก็', 'สอน', 'เก่ง', 'อีกด้วย']\n"
     ]
    }
   ],
   "source": [
    "# tokenize your paragraph (use any of tokenizer you wanted)\n",
    "from pythainlp.tokenize import word_tokenize\n",
    "myparagraph_token = word_tokenize(myparagraph, engine=\"newmm\")\n",
    "myparagraph_token2 = word_tokenize(myparagraph2, engine=\"newmm\")\n",
    "myparagraph_token3 = word_tokenize(myparagraph3, engine=\"newmm\")\n",
    "myparagraph_token4 = word_tokenize(myparagraph4, engine=\"newmm\")\n",
    "print(myparagraph_token4)"
   ]
  },
  {
   "cell_type": "code",
   "execution_count": 246,
   "metadata": {},
   "outputs": [],
   "source": [
    "# Load our dictionary\n",
    "import json \n",
    "\n",
    "# Opening JSON file \n",
    "myword_vocab = {}\n",
    "with open('./word_vocab.json') as json_file:\n",
    "    myword_vocab = json.load(json_file)\n",
    "    json_file.close()"
   ]
  },
  {
   "cell_type": "code",
   "execution_count": 260,
   "metadata": {},
   "outputs": [
    {
     "name": "stdout",
     "output_type": "stream",
     "text": [
      "ฉันซื้อขนมซองละ 5 บาท แม่บอกว่าขนมถูกแต่ไม่มีประโยชน์\n",
      "['NO', 'NO', 'YES']\n"
     ]
    }
   ],
   "source": [
    "# apply to our funtion\n",
    "print(myparagraph)\n",
    "ans = space_guess(myparagraph_token, myword_vocab, mymodel, model_padding_size = 4)"
   ]
  },
  {
   "cell_type": "code",
   "execution_count": 261,
   "metadata": {},
   "outputs": [
    {
     "name": "stdout",
     "output_type": "stream",
     "text": [
      "เก็บข้อมูลเชิงลึกกับคนไร้บ้านที่มีโรคจิตเวชจำนวน 20 คน ที่พบโรคจิตเวชโรคใดโรคหนึ่ง\n",
      "['NO', 'NO', 'YES']\n"
     ]
    }
   ],
   "source": [
    "print(myparagraph2)\n",
    "ans = space_guess(myparagraph_token2, myword_vocab, mymodel, model_padding_size = 4)"
   ]
  },
  {
   "cell_type": "code",
   "execution_count": 262,
   "metadata": {},
   "outputs": [
    {
     "name": "stdout",
     "output_type": "stream",
     "text": [
      "ฉันชอบกินข้าวมากฉันจึงซื้อข้าวมาเก็บไว้เผื่อ แม่บอกว่าในห้องยังเหลืออีกตั้ง 10 กระสอบ\n",
      "['YES', 'NO', 'NO']\n"
     ]
    }
   ],
   "source": [
    "print(myparagraph3)\n",
    "ans = space_guess(myparagraph_token3, myword_vocab, mymodel, model_padding_size = 4)"
   ]
  },
  {
   "cell_type": "code",
   "execution_count": 266,
   "metadata": {},
   "outputs": [
    {
     "name": "stdout",
     "output_type": "stream",
     "text": [
      "ฉันชอบเรียนวิชา nlp มาก เพราะว่าอาจารย์ทั้งใจดีแล้วก็สอนเก่งอีกด้วย\n",
      "['NO', 'NO', 'YES']\n"
     ]
    }
   ],
   "source": [
    "print(myparagraph4)\n",
    "ans = space_guess(myparagraph_token4, myword_vocab, mymodel, model_padding_size = 4)"
   ]
  }
 ],
 "metadata": {
  "kernelspec": {
   "display_name": "Python 3",
   "language": "python",
   "name": "python3"
  },
  "language_info": {
   "codemirror_mode": {
    "name": "ipython",
    "version": 3
   },
   "file_extension": ".py",
   "mimetype": "text/x-python",
   "name": "python",
   "nbconvert_exporter": "python",
   "pygments_lexer": "ipython3",
   "version": "3.7.8"
  }
 },
 "nbformat": 4,
 "nbformat_minor": 4
}
